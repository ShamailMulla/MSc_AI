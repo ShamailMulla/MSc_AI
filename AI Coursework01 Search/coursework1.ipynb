{
 "cells": [
  {
   "cell_type": "markdown",
   "id": "efbcecf3",
   "metadata": {},
   "source": [
    "This section of the notebook performs a search to compute a path between 2 places if it exists using search algorithms like breadth first search, depth first search and uniform cost search"
   ]
  },
  {
   "cell_type": "code",
   "execution_count": 1,
   "id": "2b279aeb-c034-4e58-9c85-f9959897ca9b",
   "metadata": {},
   "outputs": [
    {
     "name": "stdout",
     "output_type": "stream",
     "text": [
      "Last run: 2024-06-01T17:09:40\n"
     ]
    }
   ],
   "source": [
    "import cw1_AgendaBasedSearch as search\n",
    "import cw1_AgendaBasedSearch_Heuristic as best_first_search\n",
    "\n",
    "start = 'East Acton'\n",
    "end = 'Bond Street'"
   ]
  },
  {
   "cell_type": "code",
   "execution_count": 2,
   "id": "c9147a44-92a7-4223-a9b3-d18ab636ad9b",
   "metadata": {},
   "outputs": [
    {
     "name": "stdout",
     "output_type": "stream",
     "text": [
      "Running dfs for East Acton to Bond Street\n",
      "construct_path_from_root\n",
      "\n",
      "DFS RESULT\n",
      "Time taken: 81\n",
      "Explored Nodes: 61\n",
      "Line changes 11\n",
      "PATH: ['East Acton', ('White City', 'Central line'), (\"Shepherd's Bush\", 'Central line'), ('Latimer Road', 'Hammersmith & City line'), ('Ladbroke Grove', 'Hammersmith & City line'), ('Westbourne Park', 'Hammersmith & City line'), ('Royal Oak', 'Hammersmith & City line'), ('Paddington', 'Hammersmith & City line'), ('Bayswater', 'Circle line'), ('Notting Hill Gate', 'Circle line'), ('High Street Kensington', 'Circle line'), (\"Earls' Court\", 'District line'), ('Barons Court', 'Piccadilly line'), ('Hammersmith', 'District line'), ('Turnham Green', 'Piccadilly line'), ('Acton Town', 'Piccadilly line'), ('Ealing Common', 'District line'), ('North Ealing', 'Piccadilly line'), ('Park Royal', 'Piccadilly line'), ('Alperton', 'Piccadilly line'), ('Sudbury Town', 'Piccadilly line'), ('Sudbury Hill', 'Piccadilly line'), ('South Harrow', 'Piccadilly line'), ('Rayners Lane', 'Piccadilly line'), ('West Harrow', 'Metropolitan line'), ('Harrow-on-the-Hill', 'Metropolitan line'), ('Northwick Park', 'Metropolitan line'), ('Preston Road', 'Metropolitan line'), ('Wembley Park', 'Metropolitan line'), ('Finchley Road', 'Metropolitan line'), ('Baker Street', 'Metropolitan line'), ('Bond Street', 'Jubilee line')]\n",
      "Running bfs\n",
      "construct_path_from_root\n",
      "\n",
      "BFS RESULT\n",
      "Time taken: 17\n",
      "Explored Nodes: 52\n",
      "Line changes 1\n",
      "PATH: ['East Acton', ('White City', 'Central'), (\"Shepherd's Bush\", 'Central'), ('Holland Park', 'Central'), ('Notting Hill Gate', 'Central'), ('Queensway', 'Central'), ('Lancaster Gate', 'Central'), ('Marble Arch', 'Central'), ('Bond Street', 'Central')]\n",
      "Running UCS\n",
      "\n",
      "UCS\n",
      "Time taken: 17\n",
      "Nodes explored: 138\n",
      "Line changes 0\n",
      "path: [('East Acton', 0, 'Central line'), ('White City', 3, 'Central line'), (\"Shepherd's Bush\", 6, 'Central line'), ('Holland Park', 8, 'Central line'), ('Notting Hill Gate', 10, 'Central line'), ('Queensway', 12, 'Central line'), ('Lancaster Gate', 13, 'Central line'), ('Marble Arch', 16, 'Central line'), ('Bond Street', 17)]\n",
      "Running UCS UPDATED\n",
      "\n",
      "UCS with line change penalty\n",
      "Time taken: 17\n",
      "Nodes explored: 72\n",
      "Line changes 0\n",
      "path: [('East Acton', 0, 'Central line'), ('White City', 3, 'Central line'), (\"Shepherd's Bush\", 6, 'Central line'), ('Holland Park', 8, 'Central line'), ('Notting Hill Gate', 10, 'Central line'), ('Queensway', 12, 'Central line'), ('Lancaster Gate', 13, 'Central line'), ('Marble Arch', 16, 'Central line'), ('Bond Street', 17)]\n",
      "Running Best First Search\n",
      "\n",
      "Best First Search\n",
      "Time taken: 17\n",
      "Nodes explored: 72\n",
      "Line changes 0\n",
      "path: [('East Acton', 0, 'Central line'), ('White City', 3, 'Central line'), (\"Shepherd's Bush\", 6, 'Central line'), ('Holland Park', 8, 'Central line'), ('Notting Hill Gate', 10, 'Central line'), ('Queensway', 12, 'Central line'), ('Lancaster Gate', 13, 'Central line'), ('Marble Arch', 16, 'Central line'), ('Bond Street', 17)]\n"
     ]
    }
   ],
   "source": [
    "if start in search.station_dict.keys() and end in search.station_dict.keys():\n",
    "    # Doing DFS search\n",
    "    response = search.dfs(start, end)\n",
    "    # print('Response:',type(response))\n",
    "    if response is not None:\n",
    "        result = search.construct_path_from_root(response['node'], end)\n",
    "    else:\n",
    "        result = [], None    \n",
    "    print('\\nDFS RESULT')\n",
    "    print('Time taken:',result['time_taken'])\n",
    "    print('Explored Nodes:',response['exploration_cost'])\n",
    "    print('Line changes',result['line_changes'])                  \n",
    "    print('PATH:',result['path'])\n",
    "\n",
    "    # Doing BFS search\n",
    "    response = search.bfs(start, end)\n",
    "    # print('Response:',type(response))\n",
    "    if response is not None:\n",
    "        result = search.construct_path_from_root(response['node'], end)\n",
    "    else:\n",
    "        result = [], None            \n",
    "    print('\\nBFS RESULT')\n",
    "    print('Time taken:',result['time_taken'])\n",
    "    print('Explored Nodes:',response['exploration_cost'])\n",
    "    print('Line changes',result['line_changes'])                  \n",
    "    print('PATH:',result['path'])\n",
    "\n",
    "    # Doing UCS\n",
    "    result = search.ucs(start, end)\n",
    "    print('\\nUCS')\n",
    "    print('Time taken:',result['time_taken'])\n",
    "    print('Nodes explored:',result['exploration_cost'])\n",
    "    print('Line changes',result['line_changes'])\n",
    "    print('path:',result['path'])\n",
    "\n",
    "    # Doing UCS with penalty on line change\n",
    "    \n",
    "    result = search.ucs_updated(start, end)\n",
    "    print('\\nUCS with line change penalty')\n",
    "    print('Time taken:',result['time_taken'])\n",
    "    print('Nodes explored:',result['exploration_cost'])\n",
    "    print('Line changes',result['line_changes'])\n",
    "    print('path:',result['path'])\n",
    "\n",
    "    # Diong Best First Search\n",
    "    best_first_search.search(start, end)\n",
    "    print('\\nBest First Search')\n",
    "    print('Time taken:',result['time_taken'])\n",
    "    print('Nodes explored:',result['exploration_cost'])\n",
    "    print('Line changes',result['line_changes'])\n",
    "    print('path:',result['path'])\n",
    "        \n",
    "else:\n",
    "    if start not in search.station_dict.keys() and end not in search.station_dict.keys():\n",
    "        print('Start & end stations not in the tube map')\n",
    "    elif start not in search.station_dict.keys():\n",
    "        print('Start station is not on the tube map')\n",
    "    else:        \n",
    "        print('End station is not on the tube map')"
   ]
  },
  {
   "cell_type": "markdown",
   "id": "5dba8445",
   "metadata": {},
   "source": [
    "The section of the notebook uses a genetic algorithm to find a password for a student given a student ID"
   ]
  },
  {
   "cell_type": "code",
   "execution_count": 3,
   "id": "86194c54-6490-457d-bce0-fb05b3513e54",
   "metadata": {},
   "outputs": [
    {
     "name": "stdout",
     "output_type": "stream",
     "text": [
      "Solution found in 34 iterations\n",
      "Solution/s: 5UTZR54GWU\n"
     ]
    }
   ],
   "source": [
    "import cw1_GeneticAlgorithm as ga\n",
    "import password_fitness\n",
    "\n",
    "student_id = 'ec23678'\n",
    "student_password = password_fitness.get_password(student_id)\n",
    "\n",
    "iterations = 1000\n",
    "reproductions, password = ga.evolutionary_search(student_password, pop_size = 20, offspring_pairs=3, max_generations=iterations)\n",
    "if reproductions is None:\n",
    "    print('No solution found in %s iterations'%reproductions)\n",
    "else:\n",
    "    print('Solution found in %s iterations'%reproductions)\n",
    "print('Solution/s:',password)"
   ]
  },
  {
   "cell_type": "code",
   "execution_count": null,
   "id": "75ab6a7a-79d6-46e6-9e50-bd10fa2f9b84",
   "metadata": {},
   "outputs": [],
   "source": []
  }
 ],
 "metadata": {
  "kernelspec": {
   "display_name": "Python 3 (ipykernel)",
   "language": "python",
   "name": "python3"
  },
  "language_info": {
   "codemirror_mode": {
    "name": "ipython",
    "version": 3
   },
   "file_extension": ".py",
   "mimetype": "text/x-python",
   "name": "python",
   "nbconvert_exporter": "python",
   "pygments_lexer": "ipython3",
   "version": "3.10.12"
  }
 },
 "nbformat": 4,
 "nbformat_minor": 5
}
